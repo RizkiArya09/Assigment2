{
 "cells": [
  {
   "cell_type": "code",
   "execution_count": 1,
   "metadata": {},
   "outputs": [],
   "source": [
    "import copy \n",
    "from heapq import heappush,heappop"
   ]
  },
  {
   "cell_type": "code",
   "execution_count": 2,
   "metadata": {},
   "outputs": [],
   "source": [
    "n=3\n",
    "row = [1,0,-1,0]\n",
    "col=[0,-1,0,1]"
   ]
  },
  {
   "cell_type": "code",
   "execution_count": 3,
   "metadata": {},
   "outputs": [],
   "source": [
    "class priorityQueue:\n",
    "     \n",
    "    def _init_(self):\n",
    "        self.heap = []\n",
    " \n",
    "    def push(self, k):\n",
    "        heappush(self.heap, k)\n",
    " \n",
    "\n",
    "    def pop(self):\n",
    "        return heappop(self.heap)\n",
    " \n",
    "    def empty(self):\n",
    "        if not self.heap:\n",
    "            return True\n",
    "        else:\n",
    "            return False"
   ]
  },
  {
   "cell_type": "code",
   "execution_count": 4,
   "metadata": {},
   "outputs": [],
   "source": [
    "class node:\n",
    "     \n",
    "    def _init_(self, parent, mat, empty_tile_pos,\n",
    "                 cost, level):\n",
    "                      \n",
    "        self.parent = parent\n",
    " \n",
    "        self.mat = mat\n",
    " \n",
    "        self.empty_tile_pos = empty_tile_pos\n",
    " \n",
    "        self.cost = cost\n",
    " \n",
    "        self.level = level\n",
    " \n",
    "    def _lt_(self, nxt):\n",
    "        return self.cost < nxt.cost"
   ]
  },
  {
   "cell_type": "code",
   "execution_count": 5,
   "metadata": {},
   "outputs": [],
   "source": [
    "def calculateCost(mat, final) -> int:\n",
    "     \n",
    "    count = 0\n",
    "    for i in range(n):\n",
    "        for j in range(n):\n",
    "            if ((mat[i][j]) and\n",
    "                (mat[i][j] != final[i][j])):\n",
    "                count += 1\n",
    "                 \n",
    "    return count"
   ]
  },
  {
   "cell_type": "code",
   "execution_count": 6,
   "metadata": {},
   "outputs": [],
   "source": [
    "def newNode(mat, empty_tile_pos, new_empty_tile_pos,\n",
    "            level, parent, final) -> node:\n",
    "                 \n",
    "    new_mat = copy.deepcopy(mat)\n",
    " \n",
    "    x1 = empty_tile_pos[0]\n",
    "    y1 = empty_tile_pos[1]\n",
    "    x2 = new_empty_tile_pos[0]\n",
    "    y2 = new_empty_tile_pos[1]\n",
    "    new_mat[x1][y1], new_mat[x2][y2] = new_mat[x2][y2], new_mat[x1][y1]\n",
    "    cost = calculateCost(new_mat, final)\n",
    " \n",
    "    new_node = node(parent, new_mat, new_empty_tile_pos,\n",
    "                    cost, level)\n",
    "    return new_node"
   ]
  },
  {
   "cell_type": "code",
   "execution_count": 7,
   "metadata": {},
   "outputs": [],
   "source": [
    "def printMatrix(mat):\n",
    "     \n",
    "    for i in range(n):\n",
    "        for j in range(n):\n",
    "            print(\"%d \" % (mat[i][j]), end = \" \")\n",
    "             \n",
    "        print()"
   ]
  },
  {
   "cell_type": "code",
   "execution_count": 8,
   "metadata": {},
   "outputs": [],
   "source": [
    "def isSafe(x, y):\n",
    "     \n",
    "    return x >= 0 and x < n and y >= 0 and y < n"
   ]
  },
  {
   "cell_type": "code",
   "execution_count": 9,
   "metadata": {},
   "outputs": [],
   "source": [
    "def printPath(root):\n",
    "     \n",
    "    if root == None:\n",
    "        return\n",
    "     \n",
    "    printPath(root.parent)\n",
    "    printMatrix(root.mat)\n",
    "    print()"
   ]
  },
  {
   "cell_type": "code",
   "execution_count": 10,
   "metadata": {},
   "outputs": [],
   "source": [
    "def solve(initial, empty_tile_pos, final):\n",
    "     \n",
    "    pq = priorityQueue()\n",
    " \n",
    "    cost = calculateCost(initial, final)\n",
    "    root = node(None, initial,\n",
    "                empty_tile_pos, cost, 0)\n",
    " \n",
    "    pq.push(root)\n",
    " \n",
    "    while not pq.empty():\n",
    " \n",
    "        minimum = pq.pop()\n",
    " \n",
    "        if minimum.cost == 0:\n",
    "             \n",
    "            printPath(minimum)\n",
    "            return\n",
    " \n",
    "        for i in range(4):\n",
    "            new_tile_pos = [\n",
    "                minimum.empty_tile_pos[0] + row[i],\n",
    "                minimum.empty_tile_pos[1] + col[i], ]\n",
    "                 \n",
    "            if isSafe(new_tile_pos[0], new_tile_pos[1]):\n",
    "                 \n",
    "                child = newNode(minimum.mat,\n",
    "                                minimum.empty_tile_pos,\n",
    "                                new_tile_pos,\n",
    "                                minimum.level + 1,\n",
    "                                minimum, final,)\n",
    "                pq.push(child)"
   ]
  },
  {
   "cell_type": "code",
   "execution_count": 11,
   "metadata": {},
   "outputs": [
    {
     "ename": "TypeError",
     "evalue": "node() takes no arguments",
     "output_type": "error",
     "traceback": [
      "\u001b[1;31m---------------------------------------------------------------------------\u001b[0m",
      "\u001b[1;31mTypeError\u001b[0m                                 Traceback (most recent call last)",
      "Cell \u001b[1;32mIn[11], line 11\u001b[0m\n\u001b[0;32m      5\u001b[0m final \u001b[39m=\u001b[39m [ [ \u001b[39m2\u001b[39m, \u001b[39m8\u001b[39m, \u001b[39m3\u001b[39m ],\n\u001b[0;32m      6\u001b[0m           [ \u001b[39m1\u001b[39m, \u001b[39m6\u001b[39m, \u001b[39m4\u001b[39m ],\n\u001b[0;32m      7\u001b[0m           [ \u001b[39m7\u001b[39m, \u001b[39m0\u001b[39m, \u001b[39m5\u001b[39m ] ]\n\u001b[0;32m      9\u001b[0m empty_tile_pos \u001b[39m=\u001b[39m [ \u001b[39m1\u001b[39m, \u001b[39m1\u001b[39m ]\n\u001b[1;32m---> 11\u001b[0m solve(initial, empty_tile_pos, final)\n",
      "Cell \u001b[1;32mIn[10], line 6\u001b[0m, in \u001b[0;36msolve\u001b[1;34m(initial, empty_tile_pos, final)\u001b[0m\n\u001b[0;32m      3\u001b[0m pq \u001b[39m=\u001b[39m priorityQueue()\n\u001b[0;32m      5\u001b[0m cost \u001b[39m=\u001b[39m calculateCost(initial, final)\n\u001b[1;32m----> 6\u001b[0m root \u001b[39m=\u001b[39m node(\u001b[39mNone\u001b[39;49;00m, initial,\n\u001b[0;32m      7\u001b[0m             empty_tile_pos, cost, \u001b[39m0\u001b[39;49m)\n\u001b[0;32m      9\u001b[0m pq\u001b[39m.\u001b[39mpush(root)\n\u001b[0;32m     11\u001b[0m \u001b[39mwhile\u001b[39;00m \u001b[39mnot\u001b[39;00m pq\u001b[39m.\u001b[39mempty():\n",
      "\u001b[1;31mTypeError\u001b[0m: node() takes no arguments"
     ]
    }
   ],
   "source": [
    "initial = [ [ 1, 2, 3 ],\n",
    "            [ 8, 0, 4 ],\n",
    "            [ 7, 6, 5 ] ]\n",
    " \n",
    "final = [ [ 2, 8, 3 ],\n",
    "          [ 1, 6, 4 ],\n",
    "          [ 7, 0, 5 ] ]\n",
    " \n",
    "empty_tile_pos = [ 1, 1 ]\n",
    " \n",
    "solve(initial, empty_tile_pos, final)"
   ]
  }
 ],
 "metadata": {
  "kernelspec": {
   "display_name": "Python 3",
   "language": "python",
   "name": "python3"
  },
  "language_info": {
   "codemirror_mode": {
    "name": "ipython",
    "version": 3
   },
   "file_extension": ".py",
   "mimetype": "text/x-python",
   "name": "python",
   "nbconvert_exporter": "python",
   "pygments_lexer": "ipython3",
   "version": "3.10.10"
  },
  "orig_nbformat": 4
 },
 "nbformat": 4,
 "nbformat_minor": 2
}
