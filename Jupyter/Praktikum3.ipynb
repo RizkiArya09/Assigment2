{
 "cells": [
  {
   "cell_type": "code",
   "execution_count": 1,
   "metadata": {},
   "outputs": [
    {
     "name": "stdout",
     "output_type": "stream",
     "text": [
      "0\n",
      "[3.393533211, 2.331273381, 0]\n",
      "[3.110073483, 1.781539638, 0]\n",
      "[1.343808831, 3.368360954, 0]\n",
      "[3.582294042, 4.67917911, 0]\n",
      "[2.280362439, 2.866990263, 0]\n",
      "1\n",
      "[7.423436942, 4.696522875, 1]\n",
      "[5.745051997, 3.533989803, 1]\n",
      "[9.172168622, 2.511101045, 1]\n",
      "[7.792783481, 3.424088941, 1]\n",
      "[7.939820817, 0.791637231, 1]\n"
     ]
    }
   ],
   "source": [
    "#example of separating daya by class value\n",
    "\n",
    "#split the dataaset by class values, returns a dictonary\n",
    "def separate_by_class(dataset):\n",
    "    separated = dict()\n",
    "    for i in range (len(dataset)):\n",
    "        vector = dataset[i]\n",
    "        class_value = vector[-1]\n",
    "        if (class_value not in separated):\n",
    "            separated [class_value] = list()\n",
    "        separated [class_value].append(vector)\n",
    "    return separated\n",
    "\n",
    "#test separating data by class\n",
    "dataset = [[3.393533211, 2.331273381, 0],\n",
    "           [3.110073483,1.781539638,0],\n",
    "           [1.343808831,3.368360954,0],\n",
    "           [3.582294042,4.67917911,0],\n",
    "           [2.280362439,2.866990263,0],\n",
    "           [7.423436942,4.696522875,1],\n",
    "           [5.745051997,3.533989803,1],\n",
    "           [9.172168622,2.511101045,1],\n",
    "           [7.792783481,3.424088941,1],\n",
    "           [7.939820817,0.791637231,1]]\n",
    "\n",
    "separated = separate_by_class(dataset)\n",
    "for label in separated:\n",
    "    print(label)\n",
    "    for row in separated[label]:\n",
    "        print(row)"
   ]
  },
  {
   "cell_type": "code",
   "execution_count": 9,
   "metadata": {},
   "outputs": [
    {
     "name": "stdout",
     "output_type": "stream",
     "text": [
      "[(5.1783333065, 2.7665844167926132, 10), (-33127335.202576846, 104757841.52979715, 10)]\n"
     ]
    }
   ],
   "source": [
    "# Example of summarizing a dataset \n",
    "from math import sqrt\n",
    "\n",
    "def mean(numbers):\n",
    "    return sum(numbers)/float(len(numbers))\n",
    "\n",
    "def stdev(numbers):\n",
    "    avg = mean(numbers)\n",
    "    variance = sum([(x-avg)**2 for x in numbers]) / float (len(numbers)-1)\n",
    "    return sqrt(variance)\n",
    "\n",
    "def summarize_dataset (dataset):\n",
    "    summaries = [(mean(column), stdev(column), len(column)) for column in zip(*dataset)]\n",
    "    del(summaries[-1])\n",
    "    return summaries\n",
    "\n",
    "dataset = [[3.393533211,2-331273381,0],\n",
    "          [3.110073483,1.781539638,0],\n",
    "          [1.343808831,3.368360954,0],\n",
    "          [3.582294042,4,67917911,0], \n",
    "          [2.280362439,2.866990263,0],\n",
    "          [7.423436942,4.696522875,1], \n",
    "          [5.745051997,3.533989803,1],\n",
    "          [9.172168622,2.511101845,1],\n",
    "          [7.792783481,3.424088941,1], \n",
    "          [7.939820017,0.791637231,1]]\n",
    "summary = summarize_dataset(dataset)\n",
    "print(summary)"
   ]
  },
  {
   "cell_type": "code",
   "execution_count": 10,
   "metadata": {},
   "outputs": [
    {
     "name": "stdout",
     "output_type": "stream",
     "text": [
      "0\n",
      "(2.7420144012, 0.9265683289298018, 5)\n",
      "(3.0054686692, 1.1073295894898725, 5)\n",
      "1\n",
      "(7.6146523718, 1.2344321550313704, 5)\n",
      "(2.9914679790000003, 1.4541931384601618, 5)\n"
     ]
    }
   ],
   "source": [
    "#Example of summarizing data by class value\n",
    "from math import sqrt\n",
    "\n",
    "# Split the dataset by class values, returns a dictionary\n",
    "def separate_by_class(dataset):\n",
    "    separated = dict()\n",
    "    for i in range(len(dataset)):\n",
    "        vector=dataset[i]\n",
    "        class_value = vector[-1]\n",
    "        if (class_value not in separated):\n",
    "            separated [class_value] = list()\n",
    "        separated[class_value].append(vector)\n",
    "    return separated\n",
    "\n",
    "# Calculate the mean of a list of numbers\n",
    "def mean (numbers):\n",
    "    return sum(numbers)/float(len(numbers))\n",
    "\n",
    "# Calculate the standard deviation of a list of numbers\n",
    "def stdev(numbers):\n",
    "    avg = mean (numbers)\n",
    "    variance = sum([(x-avg)**2 for x in numbers]) / float(len(numbers)-1)\n",
    "    return sqrt(variance)\n",
    "\n",
    "# Calculate the mean, stdev and count for each column in a dataset\n",
    "def summarize_dataset (dataset):\n",
    "    summaries = [(mean (column), stdev(column), len(column)) for column in zip(*dataset)]\n",
    "    del(summaries[-1])\n",
    "    return summaries\n",
    "\n",
    "#Split dataset by class then calculate statistics for each row.\n",
    "def summarize_by_class(dataset):\n",
    "    separated = separate_by_class(dataset)\n",
    "    summaries= dict()\n",
    "    for class_value, rows in separated.items():\n",
    "        summaries [class_value] = summarize_dataset(rows)\n",
    "    return summaries\n",
    "\n",
    "#Test summarizing by class\n",
    "dataset = [[3.393533211,2.331273381,0],\n",
    "[3.110073483,1.781539638,0],\n",
    "[1.343808831,3.368360954,0],\n",
    "[3.582294042,4.67917911,0],\n",
    "[2.280362439,2.866990263,0],\n",
    "[7.423436942,4.696522875,1],\n",
    "[5.745051997,3.533989803,1],\n",
    "[9.172168622,2.511101045,1],\n",
    "[7.792783481,3.424088941,1],\n",
    "[7.939820817,0.791637231,1]]\n",
    "summary= summarize_by_class(dataset)\n",
    "for label in summary:\n",
    "    print(label)\n",
    "    for row in summary[label]:\n",
    "        print(row)"
   ]
  },
  {
   "cell_type": "code",
   "execution_count": 16,
   "metadata": {},
   "outputs": [
    {
     "name": "stdout",
     "output_type": "stream",
     "text": [
      "0.3989422804014327\n",
      "0.24197072451914337\n",
      "0.657744623479457\n"
     ]
    }
   ],
   "source": [
    "#Example of Gaussian PDF \n",
    "from math import sqrt \n",
    "from math import pi\n",
    "from math import exp\n",
    "\n",
    "#Calculate the Gaussian probability distribution function for x \n",
    "def calculate_probability(x, mean, stdev):\n",
    "    exponent = exp(-((x-mean)*2 / (2 * stdev*2 ))) \n",
    "    return (1 / (sqrt(2 * pi) * stdev)) * exponent\n",
    "\n",
    "#Test Gaussian PDF\n",
    "print(calculate_probability(1.0, 1.0, 1.0)) \n",
    "print(calculate_probability (2.0, 1.0, 1.0))\n",
    "print (calculate_probability (0.0, 1.0, 1.0))"
   ]
  },
  {
   "cell_type": "code",
   "execution_count": 17,
   "metadata": {},
   "outputs": [
    {
     "name": "stdout",
     "output_type": "stream",
     "text": [
      "{0: 0.07398740591541654, 1: 0.3074790293693922}\n"
     ]
    }
   ],
   "source": [
    "from math import sqrt\n",
    "from math import pi \n",
    "from math import exp\n",
    "# Split the dataset by class values, returns a dictionary \n",
    "def separate_by_class(dataset):\n",
    "    separated = dict()\n",
    "    for i in range(len(dataset)):\n",
    "        vector = dataset[i]\n",
    "        class_value = vector [-1]\n",
    "        if (class_value not in separated): \n",
    "            separated [class_value] = list()\n",
    "        separated [class_value].append(vector)\n",
    "    return separated\n",
    "# Calculate the mean of a list of numbers\n",
    "def mean (numbers):\n",
    "    return sum(numbers)/float(len(numbers))\n",
    "# Calculate the standard deviation of a list of numbers \n",
    "def stdev(numbers):\n",
    "    avg = mean (numbers)\n",
    "    variance = sum([(x-avg)**2 for x in numbers]) / float(len(numbers)-1)\n",
    "    return sqrt(variance)\n",
    "\n",
    "def summarize_dataset (dataset):\n",
    "    summaries = [(mean (column), stdev (column), len(column)) for column in zip(*dataset)]\n",
    "    del(summaries [-1])\n",
    "    return summaries\n",
    "# Split dataset by class then calculate statistics for each row \n",
    "def summarize_by_class(dataset):\n",
    "    separated = separate_by_class(dataset)\n",
    "    summaries = dict()\n",
    "    for class_value, rows in separated.items(): \n",
    "        summaries [class_value] = summarize_dataset(rows)\n",
    "    return summaries\n",
    "# Calculate the Gaussian probability distribution function for x \n",
    "def calculate_probability(x, mean, stdev):\n",
    "    exponent = exp(-((x-mean) *2 / (2 * stdev*2 )))\n",
    "    return (1/ (sqrt(2*pi) * stdev)) * exponent\n",
    "\n",
    "def calculate_class_probabilities(summaries, row):\n",
    "    total_rows = sum ([summaries [label][0][2] for label in summaries]) \n",
    "    probabilities = dict()\n",
    "    for class_value, class_summaries in summaries.items(): \n",
    "        probabilities [class_value] = summaries[class_value][0][2]/float(total_rows)\n",
    "        for i in range(len(class_summaries)): \n",
    "            mean, stdev, _ = class_summaries[i]\n",
    "            probabilities[class_value] *= calculate_probability (row[i], mean, stdev)\n",
    "    return probabilities\n",
    "# Test calculating class probabilities\n",
    "dataset = [[3.393533211,2.331273381,0],\n",
    " [3.110073483,1.781539638,0],\n",
    " [1.343808831,3.368360954,0],\n",
    " [3.582294042,4.67917911,0],\n",
    " [2.280362439,2.866990263,0],\n",
    " [7.423436942,4.696522875,1],\n",
    " [5.745051997,3.533989803,1],\n",
    " [9.172168622,2.511101045,1],\n",
    " [7.792783481,3.424088941,1],\n",
    " [7.939820817,0.791637231,1]]\n",
    "summaries = summarize_by_class(dataset)\n",
    "probabilities = calculate_class_probabilities (summaries, dataset[0])\n",
    "print(probabilities)\n"
   ]
  }
 ],
 "metadata": {
  "kernelspec": {
   "display_name": "Python 3",
   "language": "python",
   "name": "python3"
  },
  "language_info": {
   "codemirror_mode": {
    "name": "ipython",
    "version": 3
   },
   "file_extension": ".py",
   "mimetype": "text/x-python",
   "name": "python",
   "nbconvert_exporter": "python",
   "pygments_lexer": "ipython3",
   "version": "3.10.10"
  },
  "orig_nbformat": 4
 },
 "nbformat": 4,
 "nbformat_minor": 2
}
