{
 "cells": [
  {
   "cell_type": "code",
   "execution_count": 1,
   "metadata": {},
   "outputs": [],
   "source": [
    "import numpy as np\n",
    "import pandas as pd\n",
    "import skfuzzy as fuz\n",
    "import matplotlib.pyplot as plt"
   ]
  },
  {
   "cell_type": "code",
   "execution_count": 2,
   "metadata": {},
   "outputs": [],
   "source": [
    "def MembershipDegi (range,_lo,_mi,_hi,_val):\n",
    "    low=fuz.interp_membership (_range, lo,_val)\n",
    "    middle=fuz.interp_membership(_range,_mi,_val)\n",
    "    high=fuz.interp_membership(_range, hi,_val)\n",
    "    return low, middle, high\n",
    "\n",
    "def MembershipDeg2 (range,_lo,_hi, _val):\n",
    "    low=fuz.interp_membership(_range,_lo,_val)\n",
    "    high=fuz.interp_membership(_range,_hi,_val)\n",
    "    return low, high"
   ]
  },
  {
   "cell_type": "code",
   "execution_count": 3,
   "metadata": {},
   "outputs": [],
   "source": [
    "def Status1 (_membership,_label0,_label1,_label2):\n",
    "    status=''\n",
    "    if _membership[0]>_membership[1] and _membership[0]>_membership[2]:\n",
    "        status=_label0\n",
    "    elif _membership[1]>_membership[0] and _membership[1]>_membership[2]:\n",
    "        status=_label1\n",
    "    elif _membership[2]>_membership[0] and _membership[2]>_membership[1]:\n",
    "        status=_label2\n",
    "    return status\n",
    "\n",
    "def Status2 (membership,_label0,_label1):\n",
    "    status=''\n",
    "    if _membership[0]>_membership[1]:\n",
    "        status=_label0\n",
    "    elif membership[1]>_membership[0]:\n",
    "        status=_labell\n",
    "    return status"
   ]
  },
  {
   "cell_type": "code",
   "execution_count": null,
   "metadata": {},
   "outputs": [],
   "source": []
  }
 ],
 "metadata": {
  "kernelspec": {
   "display_name": "Python 3",
   "language": "python",
   "name": "python3"
  },
  "language_info": {
   "codemirror_mode": {
    "name": "ipython",
    "version": 3
   },
   "file_extension": ".py",
   "mimetype": "text/x-python",
   "name": "python",
   "nbconvert_exporter": "python",
   "pygments_lexer": "ipython3",
   "version": "3.10.10"
  },
  "orig_nbformat": 4,
  "vscode": {
   "interpreter": {
    "hash": "bc5d0375834dd5489336c0601d6d6d014ff7af1a273b143b74553897693db644"
   }
  }
 },
 "nbformat": 4,
 "nbformat_minor": 2
}
